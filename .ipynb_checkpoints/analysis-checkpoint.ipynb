{
 "cells": [
  {
   "cell_type": "code",
   "execution_count": 8,
   "metadata": {},
   "outputs": [],
   "source": [
    "# do some importing\n",
    "import datetime\n",
    "import tweepy\n",
    "import json\n",
    "\n",
    "import pandas as pd\n",
    "import numpy as np"
   ]
  },
  {
   "cell_type": "code",
   "execution_count": 2,
   "metadata": {},
   "outputs": [],
   "source": [
    "config = json.loads(open(\"config.json\", \"r\").read())\n",
    "auth = tweepy.OAuthHandler(config[\"CONSUMER_KEY\"], config[\"CONSUMER_SECRET\"])\n",
    "auth.set_access_token(config[\"ACCESS_TOKEN\"] , config[\"ACCESS_TOKEN_SECRET\"])\n",
    "api = tweepy.API(auth)"
   ]
  },
  {
   "cell_type": "code",
   "execution_count": 3,
   "metadata": {},
   "outputs": [],
   "source": [
    "current_page, total_tweets = 0, []\n",
    "while True:\n",
    "    public_tweets = api.user_timeline(\"dnarepl\", count=500, page=current_page)\n",
    "    if(len(public_tweets) == 0):\n",
    "        # go to the next page until one of them is empty\n",
    "        break\n",
    "        \n",
    "    total_tweets.extend(public_tweets)\n",
    "    current_page += 1\n",
    "    # can only see so many tweets per page so go to the next page"
   ]
  },
  {
   "cell_type": "code",
   "execution_count": null,
   "metadata": {},
   "outputs": [],
   "source": []
  },
  {
   "cell_type": "code",
   "execution_count": 4,
   "metadata": {},
   "outputs": [
    {
     "name": "stdout",
     "output_type": "stream",
     "text": [
      "3378\n"
     ]
    }
   ],
   "source": [
    "print(len(total_tweets))"
   ]
  }
 ],
 "metadata": {
  "kernelspec": {
   "display_name": "Python 3",
   "language": "python",
   "name": "python3"
  },
  "language_info": {
   "codemirror_mode": {
    "name": "ipython",
    "version": 3
   },
   "file_extension": ".py",
   "mimetype": "text/x-python",
   "name": "python",
   "nbconvert_exporter": "python",
   "pygments_lexer": "ipython3",
   "version": "3.7.5"
  }
 },
 "nbformat": 4,
 "nbformat_minor": 4
}
